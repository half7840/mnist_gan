{
  "nbformat": 4,
  "nbformat_minor": 0,
  "metadata": {
    "colab": {
      "provenance": [],
      "gpuType": "T4",
      "authorship_tag": "ABX9TyPk+YuDvdvwPUlkQPygXhnW",
      "include_colab_link": true
    },
    "kernelspec": {
      "name": "python3",
      "display_name": "Python 3"
    },
    "language_info": {
      "name": "python"
    },
    "accelerator": "GPU",
    "gpuClass": "standard"
  },
  "cells": [
    {
      "cell_type": "markdown",
      "metadata": {
        "id": "view-in-github",
        "colab_type": "text"
      },
      "source": [
        "<a href=\"https://colab.research.google.com/github/half7840/mnist_gan/blob/main/mnist_gan.ipynb\" target=\"_parent\"><img src=\"https://colab.research.google.com/assets/colab-badge.svg\" alt=\"Open In Colab\"/></a>"
      ]
    },
    {
      "cell_type": "code",
      "execution_count": 6,
      "metadata": {
        "colab": {
          "base_uri": "https://localhost:8080/"
        },
        "id": "n1mjRkJzU3NW",
        "outputId": "9c67a8e1-b3f9-42b2-aac1-650b356a5a09"
      },
      "outputs": [
        {
          "output_type": "stream",
          "name": "stdout",
          "text": [
            "[[-1. -1. -1. ... -1. -1. -1.]\n",
            " [-1. -1. -1. ... -1. -1. -1.]\n",
            " [-1. -1. -1. ... -1. -1. -1.]\n",
            " ...\n",
            " [-1. -1. -1. ... -1. -1. -1.]\n",
            " [-1. -1. -1. ... -1. -1. -1.]\n",
            " [-1. -1. -1. ... -1. -1. -1.]]\n",
            "10000\n",
            "Model: \"sequential_7\"\n",
            "_________________________________________________________________\n",
            " Layer (type)                Output Shape              Param #   \n",
            "=================================================================\n",
            " dense_20 (Dense)            (None, 256)               25856     \n",
            "                                                                 \n",
            " leaky_re_lu_13 (LeakyReLU)  (None, 256)               0         \n",
            "                                                                 \n",
            " dense_21 (Dense)            (None, 512)               131584    \n",
            "                                                                 \n",
            " leaky_re_lu_14 (LeakyReLU)  (None, 512)               0         \n",
            "                                                                 \n",
            " dense_22 (Dense)            (None, 784)               402192    \n",
            "                                                                 \n",
            "=================================================================\n",
            "Total params: 559,632\n",
            "Trainable params: 559,632\n",
            "Non-trainable params: 0\n",
            "_________________________________________________________________\n",
            "Model: \"sequential_8\"\n",
            "_________________________________________________________________\n",
            " Layer (type)                Output Shape              Param #   \n",
            "=================================================================\n",
            " dense_23 (Dense)            (None, 256)               200960    \n",
            "                                                                 \n",
            " leaky_re_lu_15 (LeakyReLU)  (None, 256)               0         \n",
            "                                                                 \n",
            " dense_24 (Dense)            (None, 256)               65792     \n",
            "                                                                 \n",
            " leaky_re_lu_16 (LeakyReLU)  (None, 256)               0         \n",
            "                                                                 \n",
            " dense_25 (Dense)            (None, 1)                 257       \n",
            "                                                                 \n",
            "=================================================================\n",
            "Total params: 267,009\n",
            "Trainable params: 267,009\n",
            "Non-trainable params: 0\n",
            "_________________________________________________________________\n",
            "Model: \"model\"\n",
            "_________________________________________________________________\n",
            " Layer (type)                Output Shape              Param #   \n",
            "=================================================================\n",
            " input_1 (InputLayer)        [(None, 100)]             0         \n",
            "                                                                 \n",
            " sequential_7 (Sequential)   (None, 784)               559632    \n",
            "                                                                 \n",
            " sequential_8 (Sequential)   (None, 1)                 267009    \n",
            "                                                                 \n",
            "=================================================================\n",
            "Total params: 826,641\n",
            "Trainable params: 559,632\n",
            "Non-trainable params: 267,009\n",
            "_________________________________________________________________\n"
          ]
        },
        {
          "output_type": "stream",
          "name": "stderr",
          "text": [
            "/usr/local/lib/python3.10/dist-packages/keras/optimizers/legacy/adam.py:117: UserWarning: The `lr` argument is deprecated, use `learning_rate` instead.\n",
            "  super().__init__(name, **kwargs)\n"
          ]
        }
      ],
      "source": [
        "from keras.models import Model, Sequential\n",
        "from keras.layers import Dense, Input\n",
        "from tensorflow.keras.layers import LeakyReLU\n",
        "from keras.optimizers import Adam\n",
        "from keras.datasets import mnist\n",
        "from tqdm import tqdm\n",
        "import numpy as np\n",
        "import matplotlib.pyplot as plt\n",
        "\n",
        "(x_train, y_train),(x_test, y_test) = mnist.load_data()\n",
        "x_test = (x_test.astype(np.float32) - 127.5)/127.5\n",
        "mnist_data = x_test.reshape(10000, 784)\n",
        "print(mnist_data)\n",
        "print(len(mnist_data))\n",
        "\n",
        "def create_generator():\n",
        "  generator = Sequential()\n",
        "  generator.add(Dense(units=256,input_dim=100))\n",
        "  generator.add(LeakyReLU(0.2))\n",
        "  generator.add(Dense(units=512))\n",
        "  generator.add(LeakyReLU(0.2))\n",
        "  generator.add(Dense(units=784, activation='tanh'))\n",
        "  return generator\n",
        "\n",
        "g = create_generator()\n",
        "g.summary()\n",
        "\n",
        "def create_discriminator():\n",
        "  discriminator = Sequential()\n",
        "  discriminator.add(Dense(units=256,input_dim=784))\n",
        "  discriminator.add(LeakyReLU(0.2))\n",
        "  discriminator.add(Dense(units=256))\n",
        "  discriminator.add(LeakyReLU(0.2))\n",
        "  discriminator.add(Dense(units=1, activation='sigmoid'))\n",
        "  discriminator.compile(loss='binary_crossentropy', optimizer=Adam(lr=0.0002, beta_1=0.5))\n",
        "  return discriminator\n",
        "\n",
        "d = create_discriminator()\n",
        "d.summary()\n",
        "\n",
        "def create_gan(discriminator, generator):\n",
        "  discriminator.trainable=False\n",
        "  gan_input = Input(shape=(100,))\n",
        "  x = generator(gan_input)\n",
        "  gan_output = discriminator(x)\n",
        "  gan = Model(inputs=gan_input, outputs=gan_output)\n",
        "  gan.compile(loss='binary_crossentropy', optimizer='adam')\n",
        "  return gan\n",
        "\n",
        "gan = create_gan(d, g)\n",
        "gan.summary()"
      ]
    }
  ]
}