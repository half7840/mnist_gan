{
  "nbformat": 4,
  "nbformat_minor": 0,
  "metadata": {
    "colab": {
      "provenance": [],
      "gpuType": "T4",
      "authorship_tag": "ABX9TyNfCQ3hcsuWigNbX1VFr0Ql",
      "include_colab_link": true
    },
    "kernelspec": {
      "name": "python3",
      "display_name": "Python 3"
    },
    "language_info": {
      "name": "python"
    },
    "accelerator": "GPU",
    "gpuClass": "standard"
  },
  "cells": [
    {
      "cell_type": "markdown",
      "metadata": {
        "id": "view-in-github",
        "colab_type": "text"
      },
      "source": [
        "<a href=\"https://colab.research.google.com/github/half7840/mnist_gan/blob/main/mnist_gan.ipynb\" target=\"_parent\"><img src=\"https://colab.research.google.com/assets/colab-badge.svg\" alt=\"Open In Colab\"/></a>"
      ]
    },
    {
      "cell_type": "code",
      "execution_count": 2,
      "metadata": {
        "colab": {
          "base_uri": "https://localhost:8080/"
        },
        "id": "n1mjRkJzU3NW",
        "outputId": "f75ba259-38f3-4413-bdc4-317c25f7421b"
      },
      "outputs": [
        {
          "output_type": "stream",
          "name": "stdout",
          "text": [
            "[[-1. -1. -1. ... -1. -1. -1.]\n",
            " [-1. -1. -1. ... -1. -1. -1.]\n",
            " [-1. -1. -1. ... -1. -1. -1.]\n",
            " ...\n",
            " [-1. -1. -1. ... -1. -1. -1.]\n",
            " [-1. -1. -1. ... -1. -1. -1.]\n",
            " [-1. -1. -1. ... -1. -1. -1.]]\n",
            "10000\n",
            "Model: \"sequential_1\"\n",
            "_________________________________________________________________\n",
            " Layer (type)                Output Shape              Param #   \n",
            "=================================================================\n",
            " dense_2 (Dense)             (None, 256)               25856     \n",
            "                                                                 \n",
            " leaky_re_lu_1 (LeakyReLU)   (None, 256)               0         \n",
            "                                                                 \n",
            " dense_3 (Dense)             (None, 512)               131584    \n",
            "                                                                 \n",
            " leaky_re_lu_2 (LeakyReLU)   (None, 512)               0         \n",
            "                                                                 \n",
            " dense_4 (Dense)             (None, 784)               402192    \n",
            "                                                                 \n",
            "=================================================================\n",
            "Total params: 559,632\n",
            "Trainable params: 559,632\n",
            "Non-trainable params: 0\n",
            "_________________________________________________________________\n"
          ]
        }
      ],
      "source": [
        "from keras.models import Model, Sequential\n",
        "from keras.layers import Dense, Input\n",
        "from tensorflow.keras.layers import LeakyReLU\n",
        "from keras.optimizers import Adam\n",
        "from keras.datasets import mnist\n",
        "from tqdm import tqdm\n",
        "import numpy as np\n",
        "import matplotlib.pyplot as plt\n",
        "\n",
        "(x_train, y_train),(x_test, y_test) = mnist.load_data()\n",
        "x_test = (x_test.astype(np.float32) - 127.5)/127.5\n",
        "mnist_data = x_test.reshape(10000, 784)\n",
        "print(mnist_data)\n",
        "print(len(mnist_data))\n",
        "\n",
        "def create_generator():\n",
        "  generator = Sequential()\n",
        "  generator.add(Dense(units=256,input_dim=100))\n",
        "  generator.add(LeakyReLU(0.2))\n",
        "  generator.add(Dense(units=512))\n",
        "  generator.add(LeakyReLU(0.2))\n",
        "  generator.add(Dense(units=784, activation='tanh'))\n",
        "  return generator\n",
        "\n",
        "g = create_generator()\n",
        "g.summary()"
      ]
    }
  ]
}